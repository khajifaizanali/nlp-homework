{
 "cells": [
  {
   "cell_type": "code",
   "execution_count": 1,
   "metadata": {},
   "outputs": [],
   "source": [
    "import pandas as pd\n",
    "import numpy as np\n"
   ]
  },
  {
   "cell_type": "code",
   "execution_count": 24,
   "metadata": {},
   "outputs": [],
   "source": [
    "a='''William Shakespeare was the son of John Shakespeare, an alderman and a successful glover (glove-maker) originally from Snitterfield, and Mary Arden, the daughter of an affluent landowning farmer.[14] He was born in Stratford-upon-Avon and baptised there on 26 April 1564. His actual date of birth remains unknown, but is traditionally observed on 23 April, Saint George's Day.[15] This date, which can be traced to a mistake made by an 18th-century scholar, has proved appealing to biographers because Shakespeare died on the same date in 1616.[16][17] He was the third of eight children, and the eldest surviving son.[18]\n",
    "\n",
    "\n",
    "John Shakespeare's house, believed to be Shakespeare's birthplace, in Stratford-upon-Avon\n",
    "Although no attendance records for the period survive, most biographers agree that Shakespeare was probably educated at the King's New School in Stratford,[19][20][21] a free school chartered in 1553,[22] about a quarter-mile (400 m) from his home. Grammar schools varied in quality during the Elizabethan era, but grammar school curricula were largely similar: the basic Latin text was standardised by royal decree,[23][24] and the school would have provided an intensive education in grammar based upon Latin classical authors.[25]\n",
    "\n",
    "At the age of 18, Shakespeare married 26-year-old Anne Hathaway. The consistory court of the Diocese of Worcester issued a marriage licence on 27 November 1582. The next day, two of Hathaway's neighbours posted bonds guaranteeing that no lawful claims impeded the marriage.[26] The ceremony may have been arranged in some haste since the Worcester chancellor allowed the marriage banns to be read once instead of the usual three times,[27][28] and six months after the marriage Anne gave birth to a daughter, Susanna, baptised 26 May 1583.[29] Twins, son Hamnet and daughter Judith, followed almost two years later and were baptised 2 February 1585.[30] Hamnet died of unknown causes at the age of 11 and was buried 11 August 1596.[31]\n",
    "\n",
    "\n",
    "Shakespeare's coat of arms, as it appears on the rough draft of the application to grant a coat-of-arms to John Shakespeare. It features a spear as a pun on the family name.[e]\n",
    "After the birth of the twins, Shakespeare left few historical traces until he is mentioned as part of the London theatre scene in 1592. The exception is the appearance of his name in the \"complaints bill\" of a law case before the Queen's Bench court at Westminster dated Michaelmas Term 1588 and 9 October 1589.[32] Scholars refer to the years between 1585 and 1592 as Shakespeare's \"lost years\".[33] Biographers attempting to account for this period have reported many apocryphal stories. Nicholas Rowe, Shakespeare's first biographer, recounted a Stratford legend that Shakespeare fled the town for London to escape prosecution for deer poaching in the estate of local squire Thomas Lucy. Shakespeare is also supposed to have taken his revenge on Lucy by writing a scurrilous ballad about him.[34][35] Another 18th-century story has Shakespeare starting his theatrical career minding the horses of theatre patrons in London.[36] John Aubrey reported that Shakespeare had been a country schoolmaster.[37] Some 20th-century scholars have suggested that Shakespeare may have been employed as a schoolmaster by Alexander Hoghton of Lancashire, a Catholic landowner who named a certain \"William Shakeshafte\" in his will.[38][39] Little evidence substantiates such stories other than hearsay collected after his death, and Shakeshafte was a common name in the Lancashire area.[40][41]'''"
   ]
  },
  {
   "cell_type": "code",
   "execution_count": 25,
   "metadata": {},
   "outputs": [],
   "source": [
    "import nltk"
   ]
  },
  {
   "cell_type": "code",
   "execution_count": 26,
   "metadata": {},
   "outputs": [
    {
     "name": "stdout",
     "output_type": "stream",
     "text": [
      "['William', 'Shakespeare', 'was', 'the', 'son', 'of', 'John', 'Shakespeare', ',', 'an', 'alderman', 'and', 'a', 'successful', 'glover', '(', 'glove-maker', ')', 'originally', 'from', 'Snitterfield', ',', 'and', 'Mary', 'Arden', ',', 'the', 'daughter', 'of', 'an', 'affluent', 'landowning', 'farmer', '.', '[', '14', ']', 'He', 'was', 'born', 'in', 'Stratford-upon-Avon', 'and', 'baptised', 'there', 'on', '26', 'April', '1564', '.', 'His', 'actual', 'date', 'of', 'birth', 'remains', 'unknown', ',', 'but', 'is', 'traditionally', 'observed', 'on', '23', 'April', ',', 'Saint', 'George', \"'s\", 'Day', '.', '[', '15', ']', 'This', 'date', ',', 'which', 'can', 'be', 'traced', 'to', 'a', 'mistake', 'made', 'by', 'an', '18th-century', 'scholar', ',', 'has', 'proved', 'appealing', 'to', 'biographers', 'because', 'Shakespeare', 'died', 'on', 'the', 'same', 'date', 'in', '1616', '.', '[', '16', ']', '[', '17', ']', 'He', 'was', 'the', 'third', 'of', 'eight', 'children', ',', 'and', 'the', 'eldest', 'surviving', 'son', '.', '[', '18', ']', 'John', 'Shakespeare', \"'s\", 'house', ',', 'believed', 'to', 'be', 'Shakespeare', \"'s\", 'birthplace', ',', 'in', 'Stratford-upon-Avon', 'Although', 'no', 'attendance', 'records', 'for', 'the', 'period', 'survive', ',', 'most', 'biographers', 'agree', 'that', 'Shakespeare', 'was', 'probably', 'educated', 'at', 'the', 'King', \"'s\", 'New', 'School', 'in', 'Stratford', ',', '[', '19', ']', '[', '20', ']', '[', '21', ']', 'a', 'free', 'school', 'chartered', 'in', '1553', ',', '[', '22', ']', 'about', 'a', 'quarter-mile', '(', '400', 'm', ')', 'from', 'his', 'home', '.', 'Grammar', 'schools', 'varied', 'in', 'quality', 'during', 'the', 'Elizabethan', 'era', ',', 'but', 'grammar', 'school', 'curricula', 'were', 'largely', 'similar', ':', 'the', 'basic', 'Latin', 'text', 'was', 'standardised', 'by', 'royal', 'decree', ',', '[', '23', ']', '[', '24', ']', 'and', 'the', 'school', 'would', 'have', 'provided', 'an', 'intensive', 'education', 'in', 'grammar', 'based', 'upon', 'Latin', 'classical', 'authors', '.', '[', '25', ']', 'At', 'the', 'age', 'of', '18', ',', 'Shakespeare', 'married', '26-year-old', 'Anne', 'Hathaway', '.', 'The', 'consistory', 'court', 'of', 'the', 'Diocese', 'of', 'Worcester', 'issued', 'a', 'marriage', 'licence', 'on', '27', 'November', '1582', '.', 'The', 'next', 'day', ',', 'two', 'of', 'Hathaway', \"'s\", 'neighbours', 'posted', 'bonds', 'guaranteeing', 'that', 'no', 'lawful', 'claims', 'impeded', 'the', 'marriage', '.', '[', '26', ']', 'The', 'ceremony', 'may', 'have', 'been', 'arranged', 'in', 'some', 'haste', 'since', 'the', 'Worcester', 'chancellor', 'allowed', 'the', 'marriage', 'banns', 'to', 'be', 'read', 'once', 'instead', 'of', 'the', 'usual', 'three', 'times', ',', '[', '27', ']', '[', '28', ']', 'and', 'six', 'months', 'after', 'the', 'marriage', 'Anne', 'gave', 'birth', 'to', 'a', 'daughter', ',', 'Susanna', ',', 'baptised', '26', 'May', '1583', '.', '[', '29', ']', 'Twins', ',', 'son', 'Hamnet', 'and', 'daughter', 'Judith', ',', 'followed', 'almost', 'two', 'years', 'later', 'and', 'were', 'baptised', '2', 'February', '1585', '.', '[', '30', ']', 'Hamnet', 'died', 'of', 'unknown', 'causes', 'at', 'the', 'age', 'of', '11', 'and', 'was', 'buried', '11', 'August', '1596', '.', '[', '31', ']', 'Shakespeare', \"'s\", 'coat', 'of', 'arms', ',', 'as', 'it', 'appears', 'on', 'the', 'rough', 'draft', 'of', 'the', 'application', 'to', 'grant', 'a', 'coat-of-arms', 'to', 'John', 'Shakespeare', '.', 'It', 'features', 'a', 'spear', 'as', 'a', 'pun', 'on', 'the', 'family', 'name', '.', '[', 'e', ']', 'After', 'the', 'birth', 'of', 'the', 'twins', ',', 'Shakespeare', 'left', 'few', 'historical', 'traces', 'until', 'he', 'is', 'mentioned', 'as', 'part', 'of', 'the', 'London', 'theatre', 'scene', 'in', '1592', '.', 'The', 'exception', 'is', 'the', 'appearance', 'of', 'his', 'name', 'in', 'the', '``', 'complaints', 'bill', \"''\", 'of', 'a', 'law', 'case', 'before', 'the', 'Queen', \"'s\", 'Bench', 'court', 'at', 'Westminster', 'dated', 'Michaelmas', 'Term', '1588', 'and', '9', 'October', '1589', '.', '[', '32', ']', 'Scholars', 'refer', 'to', 'the', 'years', 'between', '1585', 'and', '1592', 'as', 'Shakespeare', \"'s\", '``', 'lost', 'years', \"''\", '.', '[', '33', ']', 'Biographers', 'attempting', 'to', 'account', 'for', 'this', 'period', 'have', 'reported', 'many', 'apocryphal', 'stories', '.', 'Nicholas', 'Rowe', ',', 'Shakespeare', \"'s\", 'first', 'biographer', ',', 'recounted', 'a', 'Stratford', 'legend', 'that', 'Shakespeare', 'fled', 'the', 'town', 'for', 'London', 'to', 'escape', 'prosecution', 'for', 'deer', 'poaching', 'in', 'the', 'estate', 'of', 'local', 'squire', 'Thomas', 'Lucy', '.', 'Shakespeare', 'is', 'also', 'supposed', 'to', 'have', 'taken', 'his', 'revenge', 'on', 'Lucy', 'by', 'writing', 'a', 'scurrilous', 'ballad', 'about', 'him', '.', '[', '34', ']', '[', '35', ']', 'Another', '18th-century', 'story', 'has', 'Shakespeare', 'starting', 'his', 'theatrical', 'career', 'minding', 'the', 'horses', 'of', 'theatre', 'patrons', 'in', 'London', '.', '[', '36', ']', 'John', 'Aubrey', 'reported', 'that', 'Shakespeare', 'had', 'been', 'a', 'country', 'schoolmaster', '.', '[', '37', ']', 'Some', '20th-century', 'scholars', 'have', 'suggested', 'that', 'Shakespeare', 'may', 'have', 'been', 'employed', 'as', 'a', 'schoolmaster', 'by', 'Alexander', 'Hoghton', 'of', 'Lancashire', ',', 'a', 'Catholic', 'landowner', 'who', 'named', 'a', 'certain', '``', 'William', 'Shakeshafte', \"''\", 'in', 'his', 'will', '.', '[', '38', ']', '[', '39', ']', 'Little', 'evidence', 'substantiates', 'such', 'stories', 'other', 'than', 'hearsay', 'collected', 'after', 'his', 'death', ',', 'and', 'Shakeshafte', 'was', 'a', 'common', 'name', 'in', 'the', 'Lancashire', 'area', '.', '[', '40', ']', '[', '41', ']']\n"
     ]
    }
   ],
   "source": [
    "sentences=nltk.sent_tokenize(a)#tokenize as sentences\n",
    "w=[]\n",
    "for sentence in sentences:\n",
    "    words=nltk.word_tokenize(sentence)#tokenize as words\n",
    "    w=w+words\n",
    "print(w)"
   ]
  },
  {
   "cell_type": "code",
   "execution_count": 27,
   "metadata": {},
   "outputs": [],
   "source": [
    "c='''William Shakespeare, often called England's national poet, is considered the greatest dramatist of all time. His works are loved throughout the world, but Shakespeare's personal life is shrouded in mystery.\n",
    "Who Was William Shakespeare?\n",
    "William Shakespeare was an English poet, playwright and actor of the Renaissance era. He was an important member of the King’s Men company of theatrical players from roughly 1594 onward. \n",
    "\n",
    "Known throughout the world, Shakespeare's writings capture the range of human emotion and conflict and have been celebrated for more than 400 years. And yet, the personal life of William Shakespeare is somewhat a mystery. \n",
    "\n",
    "There are two primary sources that provide historians with an outline of his life. One is his work — the plays, poems and sonnets — and the other is official documentation such as church and court records. However, these provide only brief sketches of specific events in his life and yield little insight into the man himself.\n",
    "\n",
    "When Was Shakespeare Born?\n",
    "No birth records exist, but an old church record indicates that a William Shakespeare was baptized at Holy Trinity Church in Stratford-upon-Avon on April 26, 1564. From this, it is believed he was born on or near April 23, 1564, and this is the date scholars acknowledge as Shakespeare's birthday. '''"
   ]
  },
  {
   "cell_type": "code",
   "execution_count": 28,
   "metadata": {},
   "outputs": [
    {
     "name": "stdout",
     "output_type": "stream",
     "text": [
      "['William', 'Shakespeare', ',', 'often', 'called', 'England', \"'s\", 'national', 'poet', ',', 'is', 'considered', 'the', 'greatest', 'dramatist', 'of', 'all', 'time', '.', 'His', 'works', 'are', 'loved', 'throughout', 'the', 'world', ',', 'but', 'Shakespeare', \"'s\", 'personal', 'life', 'is', 'shrouded', 'in', 'mystery', '.', 'Who', 'Was', 'William', 'Shakespeare', '?', 'William', 'Shakespeare', 'was', 'an', 'English', 'poet', ',', 'playwright', 'and', 'actor', 'of', 'the', 'Renaissance', 'era', '.', 'He', 'was', 'an', 'important', 'member', 'of', 'the', 'King', '’', 's', 'Men', 'company', 'of', 'theatrical', 'players', 'from', 'roughly', '1594', 'onward', '.', 'Known', 'throughout', 'the', 'world', ',', 'Shakespeare', \"'s\", 'writings', 'capture', 'the', 'range', 'of', 'human', 'emotion', 'and', 'conflict', 'and', 'have', 'been', 'celebrated', 'for', 'more', 'than', '400', 'years', '.', 'And', 'yet', ',', 'the', 'personal', 'life', 'of', 'William', 'Shakespeare', 'is', 'somewhat', 'a', 'mystery', '.', 'There', 'are', 'two', 'primary', 'sources', 'that', 'provide', 'historians', 'with', 'an', 'outline', 'of', 'his', 'life', '.', 'One', 'is', 'his', 'work', '—', 'the', 'plays', ',', 'poems', 'and', 'sonnets', '—', 'and', 'the', 'other', 'is', 'official', 'documentation', 'such', 'as', 'church', 'and', 'court', 'records', '.', 'However', ',', 'these', 'provide', 'only', 'brief', 'sketches', 'of', 'specific', 'events', 'in', 'his', 'life', 'and', 'yield', 'little', 'insight', 'into', 'the', 'man', 'himself', '.', 'When', 'Was', 'Shakespeare', 'Born', '?', 'No', 'birth', 'records', 'exist', ',', 'but', 'an', 'old', 'church', 'record', 'indicates', 'that', 'a', 'William', 'Shakespeare', 'was', 'baptized', 'at', 'Holy', 'Trinity', 'Church', 'in', 'Stratford-upon-Avon', 'on', 'April', '26', ',', '1564', '.', 'From', 'this', ',', 'it', 'is', 'believed', 'he', 'was', 'born', 'on', 'or', 'near', 'April', '23', ',', '1564', ',', 'and', 'this', 'is', 'the', 'date', 'scholars', 'acknowledge', 'as', 'Shakespeare', \"'s\", 'birthday', '.']\n"
     ]
    }
   ],
   "source": [
    "sentences=nltk.sent_tokenize(c)#tokenize as sentences\n",
    "w1=[]\n",
    "for sentence in sentences:\n",
    "    words=nltk.word_tokenize(sentence)#tokenize as words\n",
    "    w1=w1+words\n",
    "print(w1)"
   ]
  },
  {
   "cell_type": "code",
   "execution_count": 29,
   "metadata": {},
   "outputs": [],
   "source": [
    "import sklearn.metrics.pairwise as sk"
   ]
  },
  {
   "cell_type": "code",
   "execution_count": 30,
   "metadata": {},
   "outputs": [
    {
     "name": "stdout",
     "output_type": "stream",
     "text": [
      "similarity: without stemming 0.008927548420311772\n"
     ]
    }
   ],
   "source": [
    "X_set=set(w)\n",
    "Y_set=set(w1)  \n",
    "\n",
    "# form a set containing keywords of both strings  \n",
    "rvector = X_set.union(Y_set)  \n",
    "for w in rvector: \n",
    "    if w in X_set: l1.append(1) # create a vector \n",
    "    else: l1.append(0) \n",
    "    if w in Y_set: l2.append(1) \n",
    "    else: l2.append(0) \n",
    "c = 0\n",
    "  \n",
    "# cosine formula  \n",
    "for i in range(len(rvector)): \n",
    "        c+= l1[i]*l2[i] \n",
    "cosine = c / float((sum(l1)*sum(l2))**0.5) \n",
    "print(\"similarity: without stemming\", cosine) "
   ]
  },
  {
   "cell_type": "code",
   "execution_count": 31,
   "metadata": {},
   "outputs": [],
   "source": [
    "from nltk.stem.snowball import SnowballStemmer\n",
    "stemmer = SnowballStemmer(\"english\")\n",
    "wstem=[]\n",
    "for i in w:\n",
    "    sr=stemmer.stem(i)\n",
    "    wstem.append(sr)\n",
    "w1stem=[]\n",
    "for i in w1:\n",
    "    sr=stemmer.stem(i)\n",
    "    w1stem.append(sr)"
   ]
  },
  {
   "cell_type": "code",
   "execution_count": 32,
   "metadata": {},
   "outputs": [
    {
     "name": "stdout",
     "output_type": "stream",
     "text": [
      "similarity: with stemming 0.0\n"
     ]
    }
   ],
   "source": [
    "X_set=set(wstem)\n",
    "Y_set=set(w1stem)  \n",
    "\n",
    "# form a set containing keywords of both strings  \n",
    "rvector = X_set.union(Y_set)  \n",
    "for w in rvector: \n",
    "    if w in X_set: l1.append(1) # create a vector \n",
    "    else: l1.append(0) \n",
    "    if w in Y_set: l2.append(1) \n",
    "    else: l2.append(0) \n",
    "c = 0\n",
    "  \n",
    "# cosine formula  \n",
    "for i in range(len(rvector)): \n",
    "        c+= l1[i]*l2[i] \n",
    "cosine = c / float((sum(l1)*sum(l2))**0.5) \n",
    "print(\"similarity: with stemming\", cosine) "
   ]
  },
  {
   "cell_type": "code",
   "execution_count": null,
   "metadata": {},
   "outputs": [],
   "source": []
  }
 ],
 "metadata": {
  "kernelspec": {
   "display_name": "Python 3",
   "language": "python",
   "name": "python3"
  },
  "language_info": {
   "codemirror_mode": {
    "name": "ipython",
    "version": 3
   },
   "file_extension": ".py",
   "mimetype": "text/x-python",
   "name": "python",
   "nbconvert_exporter": "python",
   "pygments_lexer": "ipython3",
   "version": "3.7.4"
  }
 },
 "nbformat": 4,
 "nbformat_minor": 2
}
