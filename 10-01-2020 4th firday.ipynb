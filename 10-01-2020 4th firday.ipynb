{
 "cells": [
  {
   "cell_type": "code",
   "execution_count": 1,
   "metadata": {},
   "outputs": [],
   "source": [
    "from nltk.corpus import stopwords #importing stopwords"
   ]
  },
  {
   "cell_type": "code",
   "execution_count": 2,
   "metadata": {},
   "outputs": [
    {
     "data": {
      "text/plain": [
       "['i',\n",
       " 'me',\n",
       " 'my',\n",
       " 'myself',\n",
       " 'we',\n",
       " 'our',\n",
       " 'ours',\n",
       " 'ourselves',\n",
       " 'you',\n",
       " \"you're\",\n",
       " \"you've\",\n",
       " \"you'll\",\n",
       " \"you'd\",\n",
       " 'your',\n",
       " 'yours',\n",
       " 'yourself',\n",
       " 'yourselves',\n",
       " 'he',\n",
       " 'him',\n",
       " 'his',\n",
       " 'himself',\n",
       " 'she',\n",
       " \"she's\",\n",
       " 'her',\n",
       " 'hers',\n",
       " 'herself',\n",
       " 'it',\n",
       " \"it's\",\n",
       " 'its',\n",
       " 'itself',\n",
       " 'they',\n",
       " 'them',\n",
       " 'their',\n",
       " 'theirs',\n",
       " 'themselves',\n",
       " 'what',\n",
       " 'which',\n",
       " 'who',\n",
       " 'whom',\n",
       " 'this',\n",
       " 'that',\n",
       " \"that'll\",\n",
       " 'these',\n",
       " 'those',\n",
       " 'am',\n",
       " 'is',\n",
       " 'are',\n",
       " 'was',\n",
       " 'were',\n",
       " 'be',\n",
       " 'been',\n",
       " 'being',\n",
       " 'have',\n",
       " 'has',\n",
       " 'had',\n",
       " 'having',\n",
       " 'do',\n",
       " 'does',\n",
       " 'did',\n",
       " 'doing',\n",
       " 'a',\n",
       " 'an',\n",
       " 'the',\n",
       " 'and',\n",
       " 'but',\n",
       " 'if',\n",
       " 'or',\n",
       " 'because',\n",
       " 'as',\n",
       " 'until',\n",
       " 'while',\n",
       " 'of',\n",
       " 'at',\n",
       " 'by',\n",
       " 'for',\n",
       " 'with',\n",
       " 'about',\n",
       " 'against',\n",
       " 'between',\n",
       " 'into',\n",
       " 'through',\n",
       " 'during',\n",
       " 'before',\n",
       " 'after',\n",
       " 'above',\n",
       " 'below',\n",
       " 'to',\n",
       " 'from',\n",
       " 'up',\n",
       " 'down',\n",
       " 'in',\n",
       " 'out',\n",
       " 'on',\n",
       " 'off',\n",
       " 'over',\n",
       " 'under',\n",
       " 'again',\n",
       " 'further',\n",
       " 'then',\n",
       " 'once',\n",
       " 'here',\n",
       " 'there',\n",
       " 'when',\n",
       " 'where',\n",
       " 'why',\n",
       " 'how',\n",
       " 'all',\n",
       " 'any',\n",
       " 'both',\n",
       " 'each',\n",
       " 'few',\n",
       " 'more',\n",
       " 'most',\n",
       " 'other',\n",
       " 'some',\n",
       " 'such',\n",
       " 'no',\n",
       " 'nor',\n",
       " 'not',\n",
       " 'only',\n",
       " 'own',\n",
       " 'same',\n",
       " 'so',\n",
       " 'than',\n",
       " 'too',\n",
       " 'very',\n",
       " 's',\n",
       " 't',\n",
       " 'can',\n",
       " 'will',\n",
       " 'just',\n",
       " 'don',\n",
       " \"don't\",\n",
       " 'should',\n",
       " \"should've\",\n",
       " 'now',\n",
       " 'd',\n",
       " 'll',\n",
       " 'm',\n",
       " 'o',\n",
       " 're',\n",
       " 've',\n",
       " 'y',\n",
       " 'ain',\n",
       " 'aren',\n",
       " \"aren't\",\n",
       " 'couldn',\n",
       " \"couldn't\",\n",
       " 'didn',\n",
       " \"didn't\",\n",
       " 'doesn',\n",
       " \"doesn't\",\n",
       " 'hadn',\n",
       " \"hadn't\",\n",
       " 'hasn',\n",
       " \"hasn't\",\n",
       " 'haven',\n",
       " \"haven't\",\n",
       " 'isn',\n",
       " \"isn't\",\n",
       " 'ma',\n",
       " 'mightn',\n",
       " \"mightn't\",\n",
       " 'mustn',\n",
       " \"mustn't\",\n",
       " 'needn',\n",
       " \"needn't\",\n",
       " 'shan',\n",
       " \"shan't\",\n",
       " 'shouldn',\n",
       " \"shouldn't\",\n",
       " 'wasn',\n",
       " \"wasn't\",\n",
       " 'weren',\n",
       " \"weren't\",\n",
       " 'won',\n",
       " \"won't\",\n",
       " 'wouldn',\n",
       " \"wouldn't\"]"
      ]
     },
     "execution_count": 2,
     "metadata": {},
     "output_type": "execute_result"
    }
   ],
   "source": [
    "stopwords.words('english') #english stop words"
   ]
  },
  {
   "cell_type": "markdown",
   "metadata": {},
   "source": [
    "CMU WORDLIST - USED for knowing IPA i.e knowning pronounciation"
   ]
  },
  {
   "cell_type": "code",
   "execution_count": 4,
   "metadata": {},
   "outputs": [],
   "source": [
    "import nltk"
   ]
  },
  {
   "cell_type": "code",
   "execution_count": 6,
   "metadata": {},
   "outputs": [],
   "source": [
    "enteries=nltk.corpus.cmudict.entries()"
   ]
  },
  {
   "cell_type": "code",
   "execution_count": 7,
   "metadata": {},
   "outputs": [
    {
     "name": "stdout",
     "output_type": "stream",
     "text": [
      "[('a', ['AH0']), ('a.', ['EY1']), ('a', ['EY1']), ...]\n"
     ]
    }
   ],
   "source": [
    "print(enteries)"
   ]
  },
  {
   "cell_type": "code",
   "execution_count": 9,
   "metadata": {},
   "outputs": [
    {
     "data": {
      "text/plain": [
       "133737"
      ]
     },
     "execution_count": 9,
     "metadata": {},
     "output_type": "execute_result"
    }
   ],
   "source": [
    "len(enteries)"
   ]
  },
  {
   "cell_type": "code",
   "execution_count": 13,
   "metadata": {},
   "outputs": [
    {
     "name": "stdout",
     "output_type": "stream",
     "text": [
      "['W', 'ER1', 'D']\n"
     ]
    }
   ],
   "source": [
    "for i in enteries:\n",
    "    if i[0]=='word':\n",
    "         print(i[1])#knowning prounciation"
   ]
  },
  {
   "cell_type": "code",
   "execution_count": 15,
   "metadata": {},
   "outputs": [
    {
     "name": "stdout",
     "output_type": "stream",
     "text": [
      "('belford', ['B', 'EH1', 'L', 'F', 'ER0', 'D'])\n",
      "('belfry', ['B', 'EH1', 'L', 'F', 'R', 'IY0'])\n",
      "('belgacom', ['B', 'EH1', 'L', 'G', 'AH0', 'K', 'AA0', 'M'])\n",
      "('belgacom', ['B', 'EH1', 'L', 'JH', 'AH0', 'K', 'AA0', 'M'])\n",
      "('belgard', ['B', 'EH0', 'L', 'G', 'AA1', 'R', 'D'])\n",
      "('belgarde', ['B', 'EH0', 'L', 'G', 'AA1', 'R', 'D', 'IY0'])\n",
      "('belge', ['B', 'EH1', 'L', 'JH', 'IY0'])\n",
      "('belger', ['B', 'EH1', 'L', 'G', 'ER0'])\n",
      "('belgian', ['B', 'EH1', 'L', 'JH', 'AH0', 'N'])\n",
      "('belgians', ['B', 'EH1', 'L', 'JH', 'AH0', 'N', 'Z'])\n",
      "('belgique', ['B', 'EH0', 'L', 'ZH', 'IY1', 'K'])\n",
      "(\"belgique's\", ['B', 'EH0', 'L', 'JH', 'IY1', 'K', 'S'])\n",
      "('belgium', ['B', 'EH1', 'L', 'JH', 'AH0', 'M'])\n",
      "(\"belgium's\", ['B', 'EH1', 'L', 'JH', 'AH0', 'M', 'Z'])\n",
      "('belgo', ['B', 'EH1', 'L', 'G', 'OW2'])\n",
      "('belgrade', ['B', 'EH1', 'L', 'G', 'R', 'EY0', 'D'])\n",
      "('belgrade', ['B', 'EH1', 'L', 'G', 'R', 'AA2', 'D'])\n",
      "(\"belgrade's\", ['B', 'EH1', 'L', 'G', 'R', 'EY0', 'D', 'Z'])\n",
      "(\"belgrade's\", ['B', 'EH1', 'L', 'G', 'R', 'AA2', 'D', 'Z'])\n",
      "('belgrave', ['B', 'EH1', 'L', 'G', 'R', 'EY2', 'V'])\n",
      "('beli', ['B', 'EH1', 'L', 'IY0'])\n",
      "('belich', ['B', 'EH1', 'L', 'IH0', 'K'])\n",
      "('belie', ['B', 'IH0', 'L', 'AY1'])\n",
      "('belied', ['B', 'IH0', 'L', 'AY1', 'D'])\n",
      "('belief', ['B', 'IH0', 'L', 'IY1', 'F'])\n"
     ]
    }
   ],
   "source": [
    "for entery in enteries[10000:10025]:\n",
    "    print(entery)"
   ]
  },
  {
   "cell_type": "markdown",
   "metadata": {},
   "source": [
    "word net -KNOWNING synonyms"
   ]
  },
  {
   "cell_type": "code",
   "execution_count": 17,
   "metadata": {},
   "outputs": [],
   "source": [
    "from nltk.corpus import wordnet as wn"
   ]
  },
  {
   "cell_type": "code",
   "execution_count": 37,
   "metadata": {},
   "outputs": [],
   "source": [
    "id1=wn.synsets('motorcar') "
   ]
  },
  {
   "cell_type": "code",
   "execution_count": 38,
   "metadata": {},
   "outputs": [
    {
     "data": {
      "text/plain": [
       "Synset('car.n.01')"
      ]
     },
     "execution_count": 38,
     "metadata": {},
     "output_type": "execute_result"
    }
   ],
   "source": [
    "id1[0]"
   ]
  },
  {
   "cell_type": "code",
   "execution_count": 39,
   "metadata": {},
   "outputs": [
    {
     "data": {
      "text/plain": [
       "['car', 'auto', 'automobile', 'machine', 'motorcar']"
      ]
     },
     "execution_count": 39,
     "metadata": {},
     "output_type": "execute_result"
    }
   ],
   "source": [
    "wn.synset('car.n.01').lemma_names()"
   ]
  },
  {
   "cell_type": "markdown",
   "metadata": {},
   "source": [
    "NLTK - PIPELINE"
   ]
  },
  {
   "cell_type": "code",
   "execution_count": 41,
   "metadata": {},
   "outputs": [
    {
     "name": "stdout",
     "output_type": "stream",
     "text": [
      "[('The', 'DT'), ('opening', 'NN'), ('credits', 'NNS'), ('are', 'VBP'), ('placeholders', 'NNS'), ('for', 'IN'), ('what', 'WP'), ('was', 'VBD'), ('in', 'IN'), ('the', 'DT'), ('script', 'NN'), (',', ','), ('since', 'IN'), ('Director', 'NNP'), ('Tim', 'NNP'), ('Miller', 'NNP'), ('(', '('), ('who', 'WP'), ('asked', 'VBD'), ('Blur', 'NNP'), ('Studio', 'NNP'), (\"'s\", 'POS'), ('Layout', 'NNP'), ('Supervisor', 'NNP'), ('Franck', 'NNP'), ('Balson', 'NNP'), ('to', 'TO'), ('remove', 'VB'), ('his', 'PRP$'), ('quickly', 'RB'), (')', ')'), ('and', 'CC'), ('Ryan', 'NNP'), ('Reynolds', 'NNP'), ('were', 'VBD'), ('the', 'DT'), ('only', 'JJ'), ('ones', 'NNS'), ('.', '.')]\n",
      "[('``', '``'), ('As', 'IN'), ('written', 'VBN'), ('by', 'IN'), ('Deadpool', 'NNP'), (\"''\", \"''\"), (';', ':'), ('``', '``'), ('Some', 'DT'), ('douchebag', 'NN'), (\"'s\", 'POS'), ('film', 'NN'), (',', ','), ('Starring', 'NNP'), ('God', 'NNP'), (\"'s\", 'POS'), ('perfect', 'JJ'), ('idiot', 'NN'), ('(', '('), ('referring', 'VBG'), ('to', 'TO'), ('Ryan', 'NNP'), ('.', '.')]\n",
      "[('Accompanied', 'VBN'), ('by', 'IN'), ('an', 'DT'), ('Easter', 'NNP'), ('Egg', 'NN'), ('of', 'IN'), ('Ryan', 'NNP'), (\"'s\", 'POS'), ('People', 'NNP'), ('Magazine', 'NNP'), ('cover', 'NN'), ('as', 'IN'), ('Sexiest', 'NNP'), ('Man', 'NNP'), ('Alive', 'NNP'), ('.', '.')]\n",
      "[(')', ')'), (';', ':'), ('``', '``'), ('A', 'DT'), ('hot', 'JJ'), ('chick', 'NN'), (\"''\", \"''\"), (';', ':'), ('``', '``'), ('A', 'DT'), ('British', 'JJ'), ('villain', 'NN'), (\"''\", \"''\"), (';', ':'), ('``', '``'), ('The', 'DT'), ('comic', 'JJ'), ('relief', 'NN'), (\"''\", \"''\"), (';', ':'), ('``', '``'), ('A', 'DT'), ('moody', 'NN'), ('teen', 'JJ'), (\"''\", \"''\"), (';', ':'), ('``', '``'), ('A', 'DT'), ('CGI', 'NNP'), ('character', 'NN'), (\"''\", \"''\"), (';', ':'), ('``', '``'), ('A', 'DT'), ('gratuitous', 'JJ'), ('cameo', 'NN'), (\"''\", \"''\"), (';', ':'), ('``', '``'), ('Produced', 'VBN'), ('by', 'IN'), ('asshats', 'NNS'), (\"''\", \"''\"), (';', ':'), ('``', '``'), ('Written', 'VBN'), ('by', 'IN'), ('the', 'DT'), ('real', 'JJ'), ('heroes', 'NNS'), ('here', 'RB'), (\"''\", \"''\"), (';', ':'), ('``', '``'), ('Directed', 'VBN'), ('by', 'IN'), ('an', 'DT'), ('overpaid', 'JJ'), ('tool', 'NN'), (\"''\", \"''\"), ('.', '.')]\n",
      "[('There', 'EX'), ('are', 'VBP'), ('Easter', 'NNP'), ('Eggs', 'NNP'), ('as', 'RB'), ('well', 'RB'), (':', ':'), ('The', 'DT'), ('card', 'NN'), ('in', 'IN'), ('the', 'DT'), ('wallet', 'NN'), ('of', 'IN'), ('Ryan', 'NNP'), ('in', 'IN'), ('a', 'DT'), ('green', 'JJ'), ('suit', 'NN'), (',', ','), ('a', 'DT'), ('blurry', 'NN'), ('Killebrew', 'NNP'), ('being', 'VBG'), ('on', 'IN'), ('the', 'DT'), ('phone', 'NN'), (',', ','), ('the', 'DT'), ('thug', 'NN'), ('with', 'IN'), ('the', 'DT'), ('lighter', 'NN'), ('was', 'VBD'), ('originally', 'RB'), ('a', 'DT'), ('filmed', 'JJ'), ('joke', 'NN'), ('in', 'IN'), ('reference', 'NN'), ('to', 'TO'), ('Colin', 'NNP'), ('Farrell', 'NNP'), ('in', 'IN'), ('Daredevil', 'NNP'), ('(', '('), ('2003', 'CD'), (')', ')'), (',', ','), ('``', '``'), ('Rob', 'NNP'), ('L.', 'NNP'), (\"''\", \"''\"), ('on', 'IN'), ('the', 'DT'), ('coffee', 'NN'), ('cup', 'NN'), ('is', 'VBZ'), ('Rob', 'NNP'), ('Liefeld', 'NNP'), (',', ','), ('the', 'DT'), ('little', 'JJ'), ('sex', 'NN'), ('key-chain', 'NN'), (',', ','), ('the', 'DT'), ('Orange', 'NNP'), ('Number', 'NNP'), ('5', 'CD'), ('card', 'NN'), (',', ','), ('and', 'CC'), ('the', 'DT'), ('Hello', 'NNP'), ('Kitty', 'NNP'), ('.', '.')]\n"
     ]
    }
   ],
   "source": [
    "texts=[\"\"\"The opening credits are placeholders for what was in the script, since Director Tim Miller (who asked Blur Studio's Layout Supervisor Franck Balson to remove his quickly) and Ryan Reynolds were the only ones. \"As written by Deadpool\"; \"Some douchebag's film, Starring God's perfect idiot (referring to Ryan. Accompanied by an Easter Egg of Ryan's People Magazine cover as Sexiest Man Alive.); \"A hot chick\"; \"A British villain\"; \"The comic relief\"; \"A moody teen\"; \"A CGI character\"; \"A gratuitous cameo\"; \"Produced by asshats\"; \"Written by the real heroes here\"; \"Directed by an overpaid tool\". There are Easter Eggs as well: The card in the wallet of Ryan in a green suit, a blurry Killebrew being on the phone, the thug with the lighter was originally a filmed joke in reference to Colin Farrell in Daredevil (2003), \"Rob L.\" on the coffee cup is Rob Liefeld, the little sex key-chain, the Orange Number 5 card, and the Hello Kitty.\"\"\"]\n",
    "for text in texts:\n",
    "    sentences=nltk.sent_tokenize(text)#tokenize as sentences\n",
    "    for sentence in sentences:\n",
    "        words=nltk.word_tokenize(sentence)#tokenize as words\n",
    "        tagged_words=nltk.pos_tag(words)#pos tagging\n",
    "        print(tagged_words)"
   ]
  },
  {
   "cell_type": "markdown",
   "metadata": {},
   "source": [
    "IMPLEMENTING TOKENIZER FOR TWITTER"
   ]
  },
  {
   "cell_type": "code",
   "execution_count": 43,
   "metadata": {},
   "outputs": [],
   "source": [
    "import nltk"
   ]
  },
  {
   "cell_type": "code",
   "execution_count": 46,
   "metadata": {},
   "outputs": [
    {
     "name": "stdout",
     "output_type": "stream",
     "text": [
      "['After', 'years', 'of', 'rebuilding', 'OTHER', 'nations', ',', 'we', 'are', 'finally', 'rebuilding', 'OUR', 'nation', ':D', '.', 'We', 'are', 'finally', 'putting', 'AMERICA', 'FIRST', '!', '#KAG2020']\n",
      "['After', 'years', 'of', 'rebuilding', 'OTHER', 'nations', ',', 'we', 'are', 'finally', 'rebuilding', 'OUR', 'nation', ':', 'D.', 'We', 'are', 'finally', 'putting', 'AMERICA', 'FIRST', '!', '#', 'KAG2020']\n"
     ]
    }
   ],
   "source": [
    "from nltk.tokenize import TweetTokenizer\n",
    "text='After years of rebuilding OTHER nations, we are finally rebuilding OUR nation :D. We are finally putting AMERICA FIRST! #KAG2020'\n",
    "twtkn=TweetTokenizer()\n",
    "print(twtkn.tokenize(text))# special words were recognized\n",
    "print(nltk.word_tokenize(text)) "
   ]
  },
  {
   "cell_type": "markdown",
   "metadata": {},
   "source": [
    "Frequency distribution"
   ]
  },
  {
   "cell_type": "code",
   "execution_count": 48,
   "metadata": {},
   "outputs": [
    {
     "name": "stdout",
     "output_type": "stream",
     "text": [
      "can: 94 could: 87 may: 93 might: 38 must: 53 will: 389 "
     ]
    }
   ],
   "source": [
    "from nltk.corpus import brown\n",
    "news_text=brown.words(categories='news')\n",
    "fdist=nltk.FreqDist([w.lower() for w in news_text]) #knowing frequency distribution\n",
    "modals=['can','could','may','might','must','will']\n",
    "for m in modals:\n",
    "    print(m+':',fdist[m],end=' ')"
   ]
  },
  {
   "cell_type": "code",
   "execution_count": 52,
   "metadata": {},
   "outputs": [
    {
     "ename": "NameError",
     "evalue": "name 'a' is not defined",
     "output_type": "error",
     "traceback": [
      "\u001b[1;31m---------------------------------------------------------------------------\u001b[0m",
      "\u001b[1;31mNameError\u001b[0m                                 Traceback (most recent call last)",
      "\u001b[1;32m<ipython-input-52-238b82e5d399>\u001b[0m in \u001b[0;36m<module>\u001b[1;34m\u001b[0m\n\u001b[1;32m----> 1\u001b[1;33m \u001b[0mchr\u001b[0m\u001b[1;33m(\u001b[0m\u001b[0ma\u001b[0m\u001b[1;33m)\u001b[0m\u001b[1;33m\u001b[0m\u001b[1;33m\u001b[0m\u001b[0m\n\u001b[0m",
      "\u001b[1;31mNameError\u001b[0m: name 'a' is not defined"
     ]
    }
   ],
   "source": [
    "chr()"
   ]
  },
  {
   "cell_type": "code",
   "execution_count": 63,
   "metadata": {},
   "outputs": [
    {
     "name": "stdout",
     "output_type": "stream",
     "text": [
      "3078\n"
     ]
    }
   ],
   "source": [
    "text=\"నా పేరు కరీం ఉంది. నేను భారత ఆహార ప్రేమ\"\n",
    "print(ord(text[29]))"
   ]
  },
  {
   "cell_type": "code",
   "execution_count": null,
   "metadata": {},
   "outputs": [],
   "source": []
  }
 ],
 "metadata": {
  "kernelspec": {
   "display_name": "Python 3",
   "language": "python",
   "name": "python3"
  },
  "language_info": {
   "codemirror_mode": {
    "name": "ipython",
    "version": 3
   },
   "file_extension": ".py",
   "mimetype": "text/x-python",
   "name": "python",
   "nbconvert_exporter": "python",
   "pygments_lexer": "ipython3",
   "version": "3.7.4"
  }
 },
 "nbformat": 4,
 "nbformat_minor": 2
}
